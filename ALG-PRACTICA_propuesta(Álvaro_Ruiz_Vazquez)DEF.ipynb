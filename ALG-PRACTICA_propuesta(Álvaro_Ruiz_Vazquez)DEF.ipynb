{
 "cells": [
  {
   "cell_type": "markdown",
   "id": "f2ac4dcd",
   "metadata": {},
   "source": [
    "<img src=\"images/keepcoding.png\" width=200 align=\"left\">"
   ]
  },
  {
   "cell_type": "markdown",
   "id": "9b439de7",
   "metadata": {},
   "source": [
    "# Módulo de Matemáticas 101: práctica\n",
    "\n",
    "Vamos a poner de nuevo en práctica lo que hemos visto en este módulo. La práctica se centra en la regresión lineal (¡tema muy importante!) y podéis preguntarme las dudas que tengáis por Discord. ¡Mucha suerte!\n",
    "\n",
    "<img src=\"./images/luck.gif\" alt=\"Drawing\" style=\"width: 300px;\"/>"
   ]
  },
  {
   "cell_type": "markdown",
   "id": "3d586f09",
   "metadata": {},
   "source": [
    "## 1. Regresión lineal con mínimos cuadrados\n",
    "\n",
    "En este ejercicio vamos a implementar la forma matricial de la regresión lineal con el método de los mínimos cuadrados. Para ello, tendrás que:\n",
    "\n",
    "- Explorar un dataset\n",
    "- Implementar la regresión lineal\n",
    "- Aplicarla a los datos\n",
    "\n",
    "Como recordatorio, los valores de los pesos $\\widehat{w}$ vienen dados por:\n",
    "\n",
    "<center>$\\widehat{w} = (X^T X)^{-1}X^T y,$</center>\n",
    "\n",
    "Donde $y$ es la variable a predecir y $X$ la matriz de features (NOTA: revisa cómo se define en los apuntes). Sabemos que los pesos van a ser los parámetros de la ecuación lineal que estamos intentando ajustar y tendremos uno por cada variable de entrada que usemos y además un término independiente o bias."
   ]
  },
  {
   "cell_type": "markdown",
   "id": "e574f77d",
   "metadata": {},
   "source": [
    "### 1.1 Carga del dataset y exploración de datos\n",
    "\n",
    "Vamos a usar el dataset de [Auto MPG](https://archive.ics.uci.edu/dataset/9/auto+mpg) que podemos encontrar en el [repositorio de Machine learning de UC Irvine](https://archive.ics.uci.edu/). Lo primero, vamos a familiarizarnos con los datos.\n",
    "\n",
    "En el propio repositorio nos indican cómo descargar el dataset con su librería (podemos consultar el código fuente si queremos)."
   ]
  },
  {
   "cell_type": "code",
   "execution_count": 1,
   "id": "4b5aac08",
   "metadata": {},
   "outputs": [
    {
     "name": "stdout",
     "output_type": "stream",
     "text": [
      "Requirement already satisfied: ucimlrepo in c:\\users\\usuario\\appdata\\local\\programs\\python\\python312\\lib\\site-packages (0.0.7)\n",
      "Requirement already satisfied: pandas>=1.0.0 in c:\\users\\usuario\\appdata\\local\\programs\\python\\python312\\lib\\site-packages (from ucimlrepo) (2.2.2)\n",
      "Requirement already satisfied: certifi>=2020.12.5 in c:\\users\\usuario\\appdata\\local\\programs\\python\\python312\\lib\\site-packages (from ucimlrepo) (2024.7.4)\n",
      "Requirement already satisfied: numpy>=1.26.0 in c:\\users\\usuario\\appdata\\local\\programs\\python\\python312\\lib\\site-packages (from pandas>=1.0.0->ucimlrepo) (2.0.1)\n",
      "Requirement already satisfied: python-dateutil>=2.8.2 in c:\\users\\usuario\\appdata\\local\\programs\\python\\python312\\lib\\site-packages (from pandas>=1.0.0->ucimlrepo) (2.9.0.post0)\n",
      "Requirement already satisfied: pytz>=2020.1 in c:\\users\\usuario\\appdata\\local\\programs\\python\\python312\\lib\\site-packages (from pandas>=1.0.0->ucimlrepo) (2024.1)\n",
      "Requirement already satisfied: tzdata>=2022.7 in c:\\users\\usuario\\appdata\\local\\programs\\python\\python312\\lib\\site-packages (from pandas>=1.0.0->ucimlrepo) (2024.1)\n",
      "Requirement already satisfied: six>=1.5 in c:\\users\\usuario\\appdata\\local\\programs\\python\\python312\\lib\\site-packages (from python-dateutil>=2.8.2->pandas>=1.0.0->ucimlrepo) (1.16.0)\n"
     ]
    }
   ],
   "source": [
    "!pip install ucimlrepo"
   ]
  },
  {
   "cell_type": "code",
   "execution_count": 2,
   "id": "d69d9185",
   "metadata": {},
   "outputs": [
    {
     "name": "stdout",
     "output_type": "stream",
     "text": [
      "{'uci_id': 9, 'name': 'Auto MPG', 'repository_url': 'https://archive.ics.uci.edu/dataset/9/auto+mpg', 'data_url': 'https://archive.ics.uci.edu/static/public/9/data.csv', 'abstract': 'Revised from CMU StatLib library, data concerns city-cycle fuel consumption', 'area': 'Other', 'tasks': ['Regression'], 'characteristics': ['Multivariate'], 'num_instances': 398, 'num_features': 7, 'feature_types': ['Real', 'Categorical', 'Integer'], 'demographics': [], 'target_col': ['mpg'], 'index_col': ['car_name'], 'has_missing_values': 'yes', 'missing_values_symbol': 'NaN', 'year_of_dataset_creation': 1993, 'last_updated': 'Thu Aug 10 2023', 'dataset_doi': '10.24432/C5859H', 'creators': ['R. Quinlan'], 'intro_paper': None, 'additional_info': {'summary': 'This dataset is a slightly modified version of the dataset provided in the StatLib library.  In line with the use by Ross Quinlan (1993) in predicting the attribute \"mpg\", 8 of the original instances were removed because they had unknown values for the \"mpg\" attribute.  The original dataset is available in the file \"auto-mpg.data-original\".\\r\\n\\r\\n\"The data concerns city-cycle fuel consumption in miles per gallon, to be predicted in terms of 3 multivalued discrete and 5 continuous attributes.\" (Quinlan, 1993)', 'purpose': None, 'funded_by': None, 'instances_represent': None, 'recommended_data_splits': None, 'sensitive_data': None, 'preprocessing_description': None, 'variable_info': '    1. mpg:           continuous\\r\\n    2. cylinders:     multi-valued discrete\\r\\n    3. displacement:  continuous\\r\\n    4. horsepower:    continuous\\r\\n    5. weight:        continuous\\r\\n    6. acceleration:  continuous\\r\\n    7. model year:    multi-valued discrete\\r\\n    8. origin:        multi-valued discrete\\r\\n    9. car name:      string (unique for each instance)', 'citation': None}}\n",
      "           name     role         type demographic description units  \\\n",
      "0  displacement  Feature   Continuous        None        None  None   \n",
      "1           mpg   Target   Continuous        None        None  None   \n",
      "2     cylinders  Feature      Integer        None        None  None   \n",
      "3    horsepower  Feature   Continuous        None        None  None   \n",
      "4        weight  Feature   Continuous        None        None  None   \n",
      "5  acceleration  Feature   Continuous        None        None  None   \n",
      "6    model_year  Feature      Integer        None        None  None   \n",
      "7        origin  Feature      Integer        None        None  None   \n",
      "8      car_name       ID  Categorical        None        None  None   \n",
      "\n",
      "  missing_values  \n",
      "0             no  \n",
      "1             no  \n",
      "2             no  \n",
      "3            yes  \n",
      "4             no  \n",
      "5             no  \n",
      "6             no  \n",
      "7             no  \n",
      "8             no  \n"
     ]
    }
   ],
   "source": [
    "from ucimlrepo import fetch_ucirepo \n",
    "  \n",
    "# fetch dataset \n",
    "auto_mpg = fetch_ucirepo(id=9) \n",
    "  \n",
    "# Data\n",
    "X = auto_mpg.data.features \n",
    "y = auto_mpg.data.targets \n",
    "  \n",
    "# Mtadata \n",
    "print(auto_mpg.metadata) \n",
    "  \n",
    "# variable information \n",
    "print(auto_mpg.variables) \n"
   ]
  },
  {
   "cell_type": "markdown",
   "id": "5f7f79e8",
   "metadata": {},
   "source": [
    "Con la función `head` de Pandas podemos ver las primeras filas del dataset."
   ]
  },
  {
   "cell_type": "code",
   "execution_count": 3,
   "id": "242091db",
   "metadata": {},
   "outputs": [
    {
     "data": {
      "text/html": [
       "<div>\n",
       "<style scoped>\n",
       "    .dataframe tbody tr th:only-of-type {\n",
       "        vertical-align: middle;\n",
       "    }\n",
       "\n",
       "    .dataframe tbody tr th {\n",
       "        vertical-align: top;\n",
       "    }\n",
       "\n",
       "    .dataframe thead th {\n",
       "        text-align: right;\n",
       "    }\n",
       "</style>\n",
       "<table border=\"1\" class=\"dataframe\">\n",
       "  <thead>\n",
       "    <tr style=\"text-align: right;\">\n",
       "      <th></th>\n",
       "      <th>displacement</th>\n",
       "      <th>cylinders</th>\n",
       "      <th>horsepower</th>\n",
       "      <th>weight</th>\n",
       "      <th>acceleration</th>\n",
       "      <th>model_year</th>\n",
       "      <th>origin</th>\n",
       "    </tr>\n",
       "  </thead>\n",
       "  <tbody>\n",
       "    <tr>\n",
       "      <th>0</th>\n",
       "      <td>307.0</td>\n",
       "      <td>8</td>\n",
       "      <td>130.0</td>\n",
       "      <td>3504</td>\n",
       "      <td>12.0</td>\n",
       "      <td>70</td>\n",
       "      <td>1</td>\n",
       "    </tr>\n",
       "    <tr>\n",
       "      <th>1</th>\n",
       "      <td>350.0</td>\n",
       "      <td>8</td>\n",
       "      <td>165.0</td>\n",
       "      <td>3693</td>\n",
       "      <td>11.5</td>\n",
       "      <td>70</td>\n",
       "      <td>1</td>\n",
       "    </tr>\n",
       "    <tr>\n",
       "      <th>2</th>\n",
       "      <td>318.0</td>\n",
       "      <td>8</td>\n",
       "      <td>150.0</td>\n",
       "      <td>3436</td>\n",
       "      <td>11.0</td>\n",
       "      <td>70</td>\n",
       "      <td>1</td>\n",
       "    </tr>\n",
       "    <tr>\n",
       "      <th>3</th>\n",
       "      <td>304.0</td>\n",
       "      <td>8</td>\n",
       "      <td>150.0</td>\n",
       "      <td>3433</td>\n",
       "      <td>12.0</td>\n",
       "      <td>70</td>\n",
       "      <td>1</td>\n",
       "    </tr>\n",
       "    <tr>\n",
       "      <th>4</th>\n",
       "      <td>302.0</td>\n",
       "      <td>8</td>\n",
       "      <td>140.0</td>\n",
       "      <td>3449</td>\n",
       "      <td>10.5</td>\n",
       "      <td>70</td>\n",
       "      <td>1</td>\n",
       "    </tr>\n",
       "  </tbody>\n",
       "</table>\n",
       "</div>"
      ],
      "text/plain": [
       "   displacement  cylinders  horsepower  weight  acceleration  model_year  \\\n",
       "0         307.0          8       130.0    3504          12.0          70   \n",
       "1         350.0          8       165.0    3693          11.5          70   \n",
       "2         318.0          8       150.0    3436          11.0          70   \n",
       "3         304.0          8       150.0    3433          12.0          70   \n",
       "4         302.0          8       140.0    3449          10.5          70   \n",
       "\n",
       "   origin  \n",
       "0       1  \n",
       "1       1  \n",
       "2       1  \n",
       "3       1  \n",
       "4       1  "
      ]
     },
     "execution_count": 3,
     "metadata": {},
     "output_type": "execute_result"
    }
   ],
   "source": [
    "X.head()"
   ]
  },
  {
   "cell_type": "code",
   "execution_count": 4,
   "id": "bc6bfba5",
   "metadata": {},
   "outputs": [
    {
     "data": {
      "text/html": [
       "<div>\n",
       "<style scoped>\n",
       "    .dataframe tbody tr th:only-of-type {\n",
       "        vertical-align: middle;\n",
       "    }\n",
       "\n",
       "    .dataframe tbody tr th {\n",
       "        vertical-align: top;\n",
       "    }\n",
       "\n",
       "    .dataframe thead th {\n",
       "        text-align: right;\n",
       "    }\n",
       "</style>\n",
       "<table border=\"1\" class=\"dataframe\">\n",
       "  <thead>\n",
       "    <tr style=\"text-align: right;\">\n",
       "      <th></th>\n",
       "      <th>mpg</th>\n",
       "    </tr>\n",
       "  </thead>\n",
       "  <tbody>\n",
       "    <tr>\n",
       "      <th>0</th>\n",
       "      <td>18.0</td>\n",
       "    </tr>\n",
       "    <tr>\n",
       "      <th>1</th>\n",
       "      <td>15.0</td>\n",
       "    </tr>\n",
       "    <tr>\n",
       "      <th>2</th>\n",
       "      <td>18.0</td>\n",
       "    </tr>\n",
       "    <tr>\n",
       "      <th>3</th>\n",
       "      <td>16.0</td>\n",
       "    </tr>\n",
       "    <tr>\n",
       "      <th>4</th>\n",
       "      <td>17.0</td>\n",
       "    </tr>\n",
       "  </tbody>\n",
       "</table>\n",
       "</div>"
      ],
      "text/plain": [
       "    mpg\n",
       "0  18.0\n",
       "1  15.0\n",
       "2  18.0\n",
       "3  16.0\n",
       "4  17.0"
      ]
     },
     "execution_count": 4,
     "metadata": {},
     "output_type": "execute_result"
    }
   ],
   "source": [
    "y.head()"
   ]
  },
  {
   "cell_type": "markdown",
   "id": "f1937b9f",
   "metadata": {},
   "source": [
    "Crea una función a la que le pases los dataframes de features y de target y el nombre de la variable y haga la gráfica del target (consumo en galones por milla) vs la variable que le ha llegado por parámetro. Puedes ver un ejemplo de gráfica más abajo."
   ]
  },
  {
   "cell_type": "code",
   "execution_count": 5,
   "id": "aca3a06e",
   "metadata": {},
   "outputs": [],
   "source": [
    "import matplotlib.pyplot as plt"
   ]
  },
  {
   "cell_type": "code",
   "execution_count": 6,
   "id": "d294b594",
   "metadata": {},
   "outputs": [
    {
     "data": {
      "text/html": [
       "<div>\n",
       "<style scoped>\n",
       "    .dataframe tbody tr th:only-of-type {\n",
       "        vertical-align: middle;\n",
       "    }\n",
       "\n",
       "    .dataframe tbody tr th {\n",
       "        vertical-align: top;\n",
       "    }\n",
       "\n",
       "    .dataframe thead th {\n",
       "        text-align: right;\n",
       "    }\n",
       "</style>\n",
       "<table border=\"1\" class=\"dataframe\">\n",
       "  <thead>\n",
       "    <tr style=\"text-align: right;\">\n",
       "      <th></th>\n",
       "      <th>displacement</th>\n",
       "      <th>cylinders</th>\n",
       "      <th>horsepower</th>\n",
       "      <th>weight</th>\n",
       "      <th>acceleration</th>\n",
       "      <th>model_year</th>\n",
       "      <th>origin</th>\n",
       "    </tr>\n",
       "  </thead>\n",
       "  <tbody>\n",
       "    <tr>\n",
       "      <th>0</th>\n",
       "      <td>307.0</td>\n",
       "      <td>8</td>\n",
       "      <td>130.0</td>\n",
       "      <td>3504</td>\n",
       "      <td>12.0</td>\n",
       "      <td>70</td>\n",
       "      <td>1</td>\n",
       "    </tr>\n",
       "    <tr>\n",
       "      <th>1</th>\n",
       "      <td>350.0</td>\n",
       "      <td>8</td>\n",
       "      <td>165.0</td>\n",
       "      <td>3693</td>\n",
       "      <td>11.5</td>\n",
       "      <td>70</td>\n",
       "      <td>1</td>\n",
       "    </tr>\n",
       "    <tr>\n",
       "      <th>2</th>\n",
       "      <td>318.0</td>\n",
       "      <td>8</td>\n",
       "      <td>150.0</td>\n",
       "      <td>3436</td>\n",
       "      <td>11.0</td>\n",
       "      <td>70</td>\n",
       "      <td>1</td>\n",
       "    </tr>\n",
       "    <tr>\n",
       "      <th>3</th>\n",
       "      <td>304.0</td>\n",
       "      <td>8</td>\n",
       "      <td>150.0</td>\n",
       "      <td>3433</td>\n",
       "      <td>12.0</td>\n",
       "      <td>70</td>\n",
       "      <td>1</td>\n",
       "    </tr>\n",
       "    <tr>\n",
       "      <th>4</th>\n",
       "      <td>302.0</td>\n",
       "      <td>8</td>\n",
       "      <td>140.0</td>\n",
       "      <td>3449</td>\n",
       "      <td>10.5</td>\n",
       "      <td>70</td>\n",
       "      <td>1</td>\n",
       "    </tr>\n",
       "    <tr>\n",
       "      <th>...</th>\n",
       "      <td>...</td>\n",
       "      <td>...</td>\n",
       "      <td>...</td>\n",
       "      <td>...</td>\n",
       "      <td>...</td>\n",
       "      <td>...</td>\n",
       "      <td>...</td>\n",
       "    </tr>\n",
       "    <tr>\n",
       "      <th>393</th>\n",
       "      <td>140.0</td>\n",
       "      <td>4</td>\n",
       "      <td>86.0</td>\n",
       "      <td>2790</td>\n",
       "      <td>15.6</td>\n",
       "      <td>82</td>\n",
       "      <td>1</td>\n",
       "    </tr>\n",
       "    <tr>\n",
       "      <th>394</th>\n",
       "      <td>97.0</td>\n",
       "      <td>4</td>\n",
       "      <td>52.0</td>\n",
       "      <td>2130</td>\n",
       "      <td>24.6</td>\n",
       "      <td>82</td>\n",
       "      <td>2</td>\n",
       "    </tr>\n",
       "    <tr>\n",
       "      <th>395</th>\n",
       "      <td>135.0</td>\n",
       "      <td>4</td>\n",
       "      <td>84.0</td>\n",
       "      <td>2295</td>\n",
       "      <td>11.6</td>\n",
       "      <td>82</td>\n",
       "      <td>1</td>\n",
       "    </tr>\n",
       "    <tr>\n",
       "      <th>396</th>\n",
       "      <td>120.0</td>\n",
       "      <td>4</td>\n",
       "      <td>79.0</td>\n",
       "      <td>2625</td>\n",
       "      <td>18.6</td>\n",
       "      <td>82</td>\n",
       "      <td>1</td>\n",
       "    </tr>\n",
       "    <tr>\n",
       "      <th>397</th>\n",
       "      <td>119.0</td>\n",
       "      <td>4</td>\n",
       "      <td>82.0</td>\n",
       "      <td>2720</td>\n",
       "      <td>19.4</td>\n",
       "      <td>82</td>\n",
       "      <td>1</td>\n",
       "    </tr>\n",
       "  </tbody>\n",
       "</table>\n",
       "<p>398 rows × 7 columns</p>\n",
       "</div>"
      ],
      "text/plain": [
       "     displacement  cylinders  horsepower  weight  acceleration  model_year  \\\n",
       "0           307.0          8       130.0    3504          12.0          70   \n",
       "1           350.0          8       165.0    3693          11.5          70   \n",
       "2           318.0          8       150.0    3436          11.0          70   \n",
       "3           304.0          8       150.0    3433          12.0          70   \n",
       "4           302.0          8       140.0    3449          10.5          70   \n",
       "..            ...        ...         ...     ...           ...         ...   \n",
       "393         140.0          4        86.0    2790          15.6          82   \n",
       "394          97.0          4        52.0    2130          24.6          82   \n",
       "395         135.0          4        84.0    2295          11.6          82   \n",
       "396         120.0          4        79.0    2625          18.6          82   \n",
       "397         119.0          4        82.0    2720          19.4          82   \n",
       "\n",
       "     origin  \n",
       "0         1  \n",
       "1         1  \n",
       "2         1  \n",
       "3         1  \n",
       "4         1  \n",
       "..      ...  \n",
       "393       1  \n",
       "394       2  \n",
       "395       1  \n",
       "396       1  \n",
       "397       1  \n",
       "\n",
       "[398 rows x 7 columns]"
      ]
     },
     "execution_count": 6,
     "metadata": {},
     "output_type": "execute_result"
    }
   ],
   "source": [
    "X"
   ]
  },
  {
   "cell_type": "code",
   "execution_count": 7,
   "id": "12de20b7",
   "metadata": {},
   "outputs": [],
   "source": [
    "def visualize(X, y, column):\n",
    "    plt.scatter(x=X[column], y=y)"
   ]
  },
  {
   "cell_type": "code",
   "execution_count": 8,
   "id": "d9da4524",
   "metadata": {},
   "outputs": [
    {
     "data": {
      "image/png": "[encoded data removed]",
      "text/plain": [
       "<Figure size 640x480 with 1 Axes>"
      ]
     },
     "metadata": {},
     "output_type": "display_data"
    }
   ],
   "source": [
    "visualize(X,y,'horsepower')"
   ]
  },
  {
   "cell_type": "markdown",
   "id": "59db67f0",
   "metadata": {},
   "source": [
    "visualiza(X, y, 'acceleration')"
   ]
  },
  {
   "cell_type": "code",
   "execution_count": 9,
   "id": "99e12d36",
   "metadata": {},
   "outputs": [
    {
     "data": {
      "image/png": "[encoded data removed]",
      "text/plain": [
       "<Figure size 640x480 with 1 Axes>"
      ]
     },
     "metadata": {},
     "output_type": "display_data"
    }
   ],
   "source": [
    "visualize(X,y,'acceleration')"
   ]
  },
  {
   "cell_type": "markdown",
   "id": "484ab196",
   "metadata": {},
   "source": [
    "Aunque lo ideal sería un modelo multivariante, vamos a elegir la variable `weight` y hacer una regresión lineal solo con esta variable."
   ]
  },
  {
   "cell_type": "code",
   "execution_count": 10,
   "id": "6f604981",
   "metadata": {},
   "outputs": [
    {
     "data": {
      "image/png": "[encoded data removed]",
      "text/plain": [
       "<Figure size 640x480 with 1 Axes>"
      ]
     },
     "metadata": {},
     "output_type": "display_data"
    }
   ],
   "source": [
    "visualize(X,y,'weight')"
   ]
  },
  {
   "cell_type": "code",
   "execution_count": null,
   "id": "8b249597",
   "metadata": {},
   "outputs": [],
   "source": []
  },
  {
   "cell_type": "markdown",
   "id": "58c9aff9",
   "metadata": {},
   "source": [
    "### 1.2 Implementación del modelo\n",
    "\n",
    "Lo primero, implementa una función que devuelva los valores de $\\widehat{w}$ dados X e y. Si se da el caso de que el dataset tiene más features que observaciones, queremos transponerlo antes de realizar las operaciones. Lo hacemos porque, como vimos en clase, los resultados no van a ser buenos si el número de observaciones es menor."
   ]
  },
  {
   "cell_type": "code",
   "execution_count": 11,
   "id": "741a496b",
   "metadata": {},
   "outputs": [],
   "source": [
    "import numpy as np\n",
    "\n",
    "def pesos_ols(X, y):\n",
    "    # TODO 1 Comprueba que las dimensiones son adecuadas y corrige si no es así\n",
    "    if len(X.shape) == 1:\n",
    "        # Si X es un vector, convertirlo en matriz columna\n",
    "        X = X.reshape(-1, 1)\n",
    "    if len(y.shape) == 1:\n",
    "        # Si y es un vector, convertirlo en matriz columna\n",
    "        y = y.reshape(-1, 1)\n",
    "    \n",
    "    # Asegúrate de que X tiene la forma correcta: (n_observaciones, n_features)\n",
    "    if X.shape[0] != y.shape[0]:\n",
    "        X = X.T  # Transponer para asegurar que filas sean observaciones\n",
    "    \n",
    "    # TODO 2 Prepara la matriz X para que tenga la forma adecuada para aplicar la fórmula \n",
    "    # Añadir una columna de unos para el término independiente (bias/intercept)\n",
    "    X_b = np.hstack([np.ones((X.shape[0], 1)), X])\n",
    "    \n",
    "    # TODO 3 Calcula los pesos\n",
    "    # Fórmula OLS: w = (X.T @ X)^(-1) @ X.T @ y\n",
    "    w = np.linalg.inv(X_b.T @ X_b) @ (X_b.T @ y)\n",
    "    \n",
    "    return w"
   ]
  },
  {
   "cell_type": "code",
   "execution_count": 12,
   "id": "20ebe4da",
   "metadata": {},
   "outputs": [
    {
     "data": {
      "text/plain": [
       "array([[-2.29223802e+06],\n",
       "       [ 5.92536529e+01],\n",
       "       [ 1.20780450e+03]])"
      ]
     },
     "execution_count": 12,
     "metadata": {},
     "output_type": "execute_result"
    }
   ],
   "source": [
    "X = np.array([[1710, 1262, 1786, 1717, 2198, 1362, 1694, 2090, 1774, 1077], \n",
    "              [2003, 1976, 2001, 1915, 2000, 1993, 2004, 1973, 1931, 1939]])\n",
    "y = np.array([208500, 181500, 223500, 140000, 250000, 143000, 307000, 200000, 129900, 118000])\n",
    "pesos_ols(X, y)"
   ]
  },
  {
   "cell_type": "markdown",
   "id": "5cb5c0f5",
   "metadata": {},
   "source": [
    "### 1.3 Prueba del modelo en los datos de consumo de coches\n",
    "\n",
    "Ya podemos usar nuestra función `pesos` en el dataset real que hemos descargado. Para ver el ajuste, dibuja de nuevo los datos junto con la recta que has obtenido, en la misma gráfica. Tendrás que convertir los dataframes de Pandas en arrays de numpy para poder aplicar las operaciones matriciales.\n",
    "\n",
    "TIP: Revisa las dimensiones de todos los arrays para ver que son correctas."
   ]
  },
  {
   "cell_type": "code",
   "execution_count": 13,
   "id": "05238091",
   "metadata": {},
   "outputs": [],
   "source": [
    "X = auto_mpg.data['features']\n",
    "y = auto_mpg.data['targets']"
   ]
  },
  {
   "cell_type": "code",
   "execution_count": 14,
   "id": "a0b5b173",
   "metadata": {},
   "outputs": [
    {
     "ename": "NameError",
     "evalue": "name 'pd' is not defined",
     "output_type": "error",
     "traceback": [
      "\u001b[1;31m---------------------------------------------------------------------------\u001b[0m",
      "\u001b[1;31mNameError\u001b[0m                                 Traceback (most recent call last)",
      "Cell \u001b[1;32mIn[14], line 1\u001b[0m\n\u001b[1;32m----> 1\u001b[0m df \u001b[38;5;241m=\u001b[39m \u001b[43mpd\u001b[49m\u001b[38;5;241m.\u001b[39mconcat([X,y], axis\u001b[38;5;241m=\u001b[39m\u001b[38;5;241m1\u001b[39m)\u001b[38;5;241m.\u001b[39mdropna()\n\u001b[0;32m      3\u001b[0m target \u001b[38;5;241m=\u001b[39m \u001b[38;5;124m'\u001b[39m\u001b[38;5;124mmpg\u001b[39m\u001b[38;5;124m'\u001b[39m\n\u001b[0;32m      4\u001b[0m X \u001b[38;5;241m=\u001b[39m df[[\u001b[38;5;124m'\u001b[39m\u001b[38;5;124mweight\u001b[39m\u001b[38;5;124m'\u001b[39m]]\u001b[38;5;241m.\u001b[39mvalues\n",
      "\u001b[1;31mNameError\u001b[0m: name 'pd' is not defined"
     ]
    }
   ],
   "source": [
    "df = pd.concat([X,y], axis=1).dropna()\n",
    "\n",
    "target = 'mpg'\n",
    "X = df[['weight']].values\n",
    "y = df[target].values"
   ]
  },
  {
   "cell_type": "code",
   "execution_count": null,
   "id": "53cebe34",
   "metadata": {},
   "outputs": [
    {
     "data": {
      "text/plain": [
       "array([[ 4.622e+01],\n",
       "       [-1.000e-02]])"
      ]
     },
     "execution_count": 96,
     "metadata": {},
     "output_type": "execute_result"
    }
   ],
   "source": [
    "# TODO Aplica el modelo y dibuja la recta junto con los datos\n",
    "\n",
    "w = pesos_ols(X, y)\n",
    "w.round(2)"
   ]
  },
  {
   "cell_type": "markdown",
   "id": "88fcbf61",
   "metadata": {},
   "source": [
    "Por último, vamos a comprar el resultado con el que nos da `scikit-learn`para ver si nuestra implementación tiene buena pinta. Podemos ver cómo funciona en la [documentación](https://scikit-learn.org/stable/modules/generated/sklearn.linear_model.LinearRegression.html)."
   ]
  },
  {
   "cell_type": "code",
   "execution_count": null,
   "id": "3d07cb49",
   "metadata": {},
   "outputs": [
    {
     "name": "stdout",
     "output_type": "stream",
     "text": [
      "Punto de corte: 46.21652454901758\n",
      "Pendiente: [-0.00764734]\n"
     ]
    }
   ],
   "source": [
    "from sklearn.linear_model import LinearRegression\n",
    "\n",
    "# Creamos el objeto\n",
    "lr = LinearRegression()\n",
    "\n",
    "# Entrenamos con los datos\n",
    "lr.fit(X, y)\n",
    "print(\"Punto de corte:\", lr.intercept_)\n",
    "print(\"Pendiente:\", lr.coef_)"
   ]
  },
  {
   "cell_type": "code",
   "execution_count": null,
   "id": "a3ee9ba2",
   "metadata": {},
   "outputs": [],
   "source": []
  },
  {
   "cell_type": "code",
   "execution_count": null,
   "id": "d86c9488",
   "metadata": {},
   "outputs": [
    {
     "data": {
      "text/plain": [
       "array([19.4202363 , 17.97488856, 19.9402556 , 19.96319762, 19.84084014,\n",
       "       13.0194106 , 12.91999515, 13.24118353, 12.37703383, 16.77425579,\n",
       "       18.96904309, 18.61726534, 17.45486927, 22.61682548, 28.07702805,\n",
       "       24.55160315, 25.00279635, 26.43284941, 29.92768495, 32.183651  ,\n",
       "       25.78282529, 27.63348219, 28.05408603, 29.13236132, 25.96636151,\n",
       "       10.92403875, 12.75175361, 12.70586956, 10.02929967, 29.92768495,\n",
       "       28.90294105, 29.17824538, 26.07342431, 19.91731357, 20.75852125,\n",
       "       20.9649995 , 21.07206229, 14.02885982, 12.07878747, 14.44946366,\n",
       "       14.89300952,  8.32394228,  9.92223687,  6.90918392, 23.56509596,\n",
       "       27.80172372, 21.11794635, 22.21151633, 29.23942412, 29.98121635,\n",
       "       30.35593613, 30.42476221, 32.65778623, 33.88136104, 32.19129834,\n",
       "       31.26596989, 28.79587825, 29.95827432, 28.97941447, 27.80172372,\n",
       "       29.19354006, 13.53178255, 12.68292753, 14.59476316, 14.64064722,\n",
       "       18.13548276, 10.78638658, 11.78818845, 12.13996621, 12.39997586,\n",
       "       28.39821644, 16.4530674 , 14.87771484, 13.3788357 , 15.03830903,\n",
       "       23.78686889, 27.01404744, 23.43509113, 29.47649174, 27.90113918,\n",
       "       28.71940483, 27.05228415, 29.6676753 , 30.15710522, 14.86242015,\n",
       "       18.13548276, 15.71892252, 15.30596602, 17.33251179,  8.34688431,\n",
       "       12.07878747, 12.85116907, 13.81473422, 10.00635764,  8.35453165,\n",
       "       16.99602872, 22.34916849, 21.14853572, 23.69510078, 23.11390275,\n",
       "       24.00864183, 31.3042066 ,  8.0027539 ,  8.69866207, 10.62579239,\n",
       "       11.81113048, 24.88808622, 28.78823091, 27.85525512, 28.02349666,\n",
       "       29.973569  , 28.55116329, 27.3122938 , 28.89529371, 15.00007232,\n",
       "       13.50119318, 31.93893603, 29.71355936, 26.47108612, 24.28394616,\n",
       "       20.22320727, 25.8745934 , 24.75043405, 18.1966615 , 22.494468  ,\n",
       "       24.03158385, 20.70498985, 31.3042066 , 27.47288799, 32.17600365,\n",
       "       26.77697982, 17.30192242, 18.44137646, 18.58667597, 14.54887911,\n",
       "       10.28166197, 12.13231887, 10.74814987, 13.66178737, 29.24707146,\n",
       "       31.20479115, 28.62763672, 33.60605671, 30.89889745, 29.96592166,\n",
       "       30.09592648, 29.04059321, 27.18228898, 27.93172855, 30.92183948,\n",
       "       21.25559851, 19.76436672, 19.97084497, 22.06621682, 10.51872959,\n",
       "       12.26232369, 11.81877782, 10.60285036, 16.33835726, 16.41483069,\n",
       "       17.69193689, 17.27133305, 22.97625058, 21.58443424, 21.98209605,\n",
       "       29.6141439 , 26.0351876 , 23.9321684 , 26.3946127 , 25.55340502,\n",
       "       29.21648209, 26.7540378 , 23.39685442, 31.40362206, 21.66090767,\n",
       "       25.61458376, 23.60333267, 23.69510078, 25.79047264, 32.4895447 ,\n",
       "       27.37347254, 29.23942412, 26.54755955, 28.97176713, 29.37707629,\n",
       "       13.98297576, 14.17415932, 15.91775342, 13.98297576, 21.49266613,\n",
       "       20.57498503, 23.18272883, 22.62447283, 30.65418249, 29.6676753 ,\n",
       "       31.40362206, 32.4895447 , 18.29607695, 18.88492233, 18.34196101,\n",
       "       21.79855983, 32.26012442, 30.9983129 , 29.73650138, 26.60109094,\n",
       "       22.12739556, 16.08599496, 21.20971446, 23.80981092, 17.00367606,\n",
       "       12.72116424, 15.20655057, 16.62130894, 17.50075333, 30.57770906,\n",
       "       29.73650138, 32.26012442, 28.62763672, 31.34244332, 16.54483551,\n",
       "       15.16831385, 14.55652645, 13.37118836, 19.29787882, 20.02437636,\n",
       "       18.45667114, 19.25964211, 13.94473905, 14.36534289, 13.14176808,\n",
       "       13.06529466, 31.38068003, 25.262806  , 28.89529371, 25.14809586,\n",
       "       30.53182501, 30.34828879, 31.03654962, 29.4688444 , 24.68925531,\n",
       "       26.33343396, 25.41575285, 31.03654962, 32.45130798, 31.03654962,\n",
       "       30.3865255 , 32.45130798, 20.48321692, 17.65370018, 18.9155117 ,\n",
       "       19.18316869, 22.08915885, 23.54215393, 25.41575285, 19.98613965,\n",
       "       21.66855501, 20.36850678, 22.73918296, 18.53314457, 20.1390865 ,\n",
       "       20.02437636, 19.87142951, 21.70679172, 15.015367  , 29.73650138,\n",
       "       26.63932766, 28.62763672, 29.16295069, 26.98345807, 25.22456929,\n",
       "       24.38336161, 27.82466575, 24.57454517, 22.20386899, 24.84220216,\n",
       "       20.1390865 , 30.9983129 , 29.88944824, 21.40089802, 23.35097037,\n",
       "       24.11570462, 21.24795117, 20.52145363, 16.85072921, 17.7301736 ,\n",
       "       15.97128482, 16.92720264, 12.87411109, 15.21419791, 18.64785471,\n",
       "       16.08599496, 31.49539017, 31.11302304, 31.57186359, 25.79811998,\n",
       "       19.2214054 , 16.39188866, 21.82150186, 20.06261308, 29.39237097,\n",
       "       29.7747381 , 30.76889263, 29.92768495, 25.79811998, 26.37167067,\n",
       "       25.5686997 , 26.66991703, 29.82062215, 31.16655444, 30.00415837,\n",
       "       30.77653997, 25.73694124, 24.26865147, 23.25155491, 20.36085944,\n",
       "       29.48413908, 25.48457893, 26.77697982, 27.60289282, 28.89529371,\n",
       "       30.0806318 , 24.80396545, 30.0806318 , 30.27181536, 28.35997973,\n",
       "       23.65686407, 21.36266131, 32.06894086, 29.81297481, 32.10717757,\n",
       "       23.96275777, 27.70995561, 27.09816821, 28.70411014, 27.17464163,\n",
       "       26.06577697, 26.18048711, 25.37751614, 27.9776126 , 32.7954384 ,\n",
       "       31.87775729, 32.75720169, 30.42476221, 31.11302304, 30.53947235,\n",
       "       31.03654962, 29.27766083, 30.57770906, 28.01584931, 29.4688444 ,\n",
       "       29.31589754, 28.24526959, 26.21872382, 26.06577697, 21.51560816,\n",
       "       22.05092214, 24.0392312 , 23.80981092, 20.10084979, 17.7301736 ,\n",
       "       22.81565639, 19.71848266, 26.29519724, 26.02754025, 27.90113918,\n",
       "       26.52461752, 26.90698465, 25.30104271, 24.30688818, 31.07478633,\n",
       "       30.73065591, 31.15125975, 29.96592166, 29.96592166, 29.69826467,\n",
       "       29.35413426, 29.04824056, 31.18949647, 31.18949647, 30.96007619,\n",
       "       23.69510078, 23.1597868 , 26.44814409, 24.53630846, 25.83635669,\n",
       "       28.09232274, 23.65686407, 24.88043887, 29.92768495, 28.66587343,\n",
       "       26.14225039, 25.41575285])"
      ]
     },
     "execution_count": 101,
     "metadata": {},
     "output_type": "execute_result"
    }
   ],
   "source": [
    "y_pred = lr.predict(X)\n",
    "y_pred"
   ]
  },
  {
   "cell_type": "code",
   "execution_count": null,
   "id": "11fc5e68",
   "metadata": {},
   "outputs": [
    {
     "data": {
      "text/plain": [
       "<matplotlib.collections.PathCollection at 0x1457330e450>"
      ]
     },
     "execution_count": 102,
     "metadata": {},
     "output_type": "execute_result"
    },
    {
     "data": {
      "image/png": "[encoded data removed]",
      "text/plain": [
       "<Figure size 640x480 with 1 Axes>"
      ]
     },
     "metadata": {},
     "output_type": "display_data"
    }
   ],
   "source": [
    "plt.scatter(x=X, y=y)\n",
    "plt.scatter(x=X, y=y_pred)  "
   ]
  },
  {
   "cell_type": "markdown",
   "id": "a2571861",
   "metadata": {},
   "source": [
    "**TODO**: Analiza el resultado obtenido y compáralo con el de sklearn"
   ]
  },
  {
   "cell_type": "markdown",
   "id": "4aa24d2c",
   "metadata": {},
   "source": [
    "### 1.4 Compara el método de mínimos cuadrados y el descenso del gradiente para obtener los coeficientes de una regresión lineal\n",
    "\n",
    "Los minimos cuadrados es un metodo deterministico que te devuelve los pesos optimizados en base a la menor area de los cuadrados utilizando la derivada para que la pendiente sea cero.\n",
    "\n",
    "El descenso del gradiente es un metodo iterativo donde el modelo comienza con unos pesos aleatoerios y, paso a paso, evalua hacia donde tiene que mover el peso hasta converger."
   ]
  },
  {
   "cell_type": "markdown",
   "id": "3e9b06f2",
   "metadata": {},
   "source": []
  },
  {
   "cell_type": "markdown",
   "id": "77098377",
   "metadata": {},
   "source": [
    "## 2. Optimización con descenso del gradiente [OPCIONAL]\n",
    "\n",
    "Este ejercicio es opcional, no es necesario hacerlo para conseguir el APTO en la práctica, pero podéis hacerlo si queréis practicar más sobre el método del descenso del gradiente, que es muy importante en machine learning.\n",
    "\n",
    "Vamos a resolver el mismo problema usando el descenso del gradiente en lugar de la solución analítica. El descenso del gradiente es un método de optimización iterativo que usa el operador gradiente.\n",
    "\n",
    "Como es iterativo, necesitamos decirle cuándo tiene que parar y darnos la solución. En este caso, le vamos a decir que pare y nos devuelva la solución después de un número de iteraciones que le pasaremos como parámetro. La ecuación iterativa es.\n",
    "\n",
    "$$w^{t+1} = w^t - \\eta \\cdot \\nabla f(w)$$\n",
    "\n",
    "donde f es nuestra función objetivo, y w es un vector. Para la función objetivo, vamos a usar el error RSS, que querremos minimizar.\n",
    "\n",
    "$$ RSS(w) = \\frac{1}{2}\\sum_{n=1}^{N}[y_n-f(x_n)]^2$$\n",
    "\n",
    "y cuyo gradiente es:\n",
    "\n",
    "$$\\nabla RSS(w) = X^T(Xw^t-y)$$\n",
    "\n",
    "TIP: Ten en cuenta que el RSS también lo puedes escribir como $\\frac{1}{2}\\sum_{n=1}^{N}[y_n-\\hat{y_n}]^2$ donde $\\hat{y_n} = X \\hat{w}$ en cada paso."
   ]
  },
  {
   "cell_type": "markdown",
   "id": "446ad8dd",
   "metadata": {},
   "source": [
    "### 2.1 Implementar el descenso del gradiente\n",
    "\n",
    "Completa las siguientes funciones para implementar el descenso del gradiente con la función objetivo de la regresión lineal. La función necesitará:\n",
    "\n",
    "- La entrada X y salida y de la regresión\n",
    "- Un punto inicial desde el que empezar a iterar\n",
    "- El número de iteraciones \n",
    "- El learning rate\n",
    "\n",
    "La función nos devolverá un array con las w resultantes de las iteraciones y otro con el valor de la función en cada paso del algoritmo, a la que también se conoce como *loss function*."
   ]
  },
  {
   "cell_type": "code",
   "execution_count": null,
   "id": "d7e96408",
   "metadata": {},
   "outputs": [
    {
     "name": "stdout",
     "output_type": "stream",
     "text": [
      "[[183844.99464097]\n",
      " [ 40417.13664575]]\n"
     ]
    }
   ],
   "source": [
    "import numpy as np\n",
    "\n",
    "def gradient_descent(X, y, w0, n_iter, eta): \n",
    "    # Inicializamos variables\n",
    "    loss_iter = [np.inf]\n",
    "    w_iter = [w0]\n",
    "    w = w0\n",
    "    \n",
    "    # TODO 1 Añade la columna de 1s\n",
    "    X_b = np.hstack([np.ones((X.shape[0], 1)), X])\n",
    "    \n",
    "    # TODO 2 Haz un bucle para las iteraciones \n",
    "    for i in range(n_iter):\n",
    "        # TODO 3 Dentro del bucle tendrás que actualizar el error y los pesos y añadirlos a las listas\n",
    "        gradients = 2 / X_b.shape[0] * X_b.T @ (X_b @ w - y)\n",
    "        w = w - eta * gradients\n",
    "        \n",
    "        # Calculamos la pérdida (error cuadrático medio)\n",
    "        loss = np.mean((X_b @ w - y) ** 2)\n",
    "        \n",
    "        # Guardamos los pesos y la pérdida\n",
    "        w_iter.append(w)\n",
    "        loss_iter.append(loss)\n",
    "    \n",
    "    # Devuelve los resultados\n",
    "    return np.array(w_iter), np.array(loss_iter)\n",
    "\n",
    "# Parámetros del descenso de gradiente\n",
    "eta = 0.01 \n",
    "iteraciones = 2000 \n",
    "\n",
    "# Inicialización de pesos aleatorios\n",
    "np.random.seed(123)\n",
    "w0 = np.random.rand(2, 1)\n",
    "\n",
    "# Datos de entrenamiento\n",
    "y = np.array([208500, 181500, 223500, 140000, 250000]).reshape((5,1))\n",
    "X = np.array( [[  0.37020659],\n",
    "               [  -0.48234664],\n",
    "               [  0.51483616],\n",
    "               [  0.38352774],\n",
    "               [  1.29888065]])\n",
    "\n",
    "# Ejecución del descenso de gradiente\n",
    "weights, loss = gradient_descent(X, y, w0, iteraciones, eta)\n",
    "\n",
    "# Imprimir los pesos finales\n",
    "print(weights[-1])"
   ]
  },
  {
   "cell_type": "code",
   "execution_count": null,
   "id": "837c0b46",
   "metadata": {},
   "outputs": [
    {
     "data": {
      "text/plain": [
       "array([[183844.99464097],\n",
       "       [ 40417.13664575]])"
      ]
     },
     "execution_count": 118,
     "metadata": {},
     "output_type": "execute_result"
    }
   ],
   "source": [
    "weights[-1]"
   ]
  },
  {
   "cell_type": "markdown",
   "id": "6d6e3013",
   "metadata": {},
   "source": [
    "### 2.2 Aplicar al dataset de consumo de combustible\n",
    "\n",
    "Leemos de nuevo los datos y aplicamos la función que acabamos de programar."
   ]
  },
  {
   "cell_type": "code",
   "execution_count": null,
   "id": "321a1e4b",
   "metadata": {},
   "outputs": [],
   "source": [
    "X = df[['weight']].values\n",
    "y = df[['mpg']].values"
   ]
  },
  {
   "cell_type": "code",
   "execution_count": null,
   "id": "310ed9c3",
   "metadata": {},
   "outputs": [
    {
     "name": "stderr",
     "output_type": "stream",
     "text": [
      "C:\\Users\\Usuario\\AppData\\Local\\Temp\\ipykernel_15072\\2334237064.py:19: RuntimeWarning: overflow encountered in square\n",
      "  loss = np.mean((X_b @ w - y) ** 2)\n",
      "C:\\Users\\Usuario\\AppData\\Local\\Temp\\ipykernel_15072\\2334237064.py:19: RuntimeWarning: overflow encountered in matmul\n",
      "  loss = np.mean((X_b @ w - y) ** 2)\n",
      "C:\\Users\\Usuario\\AppData\\Local\\Temp\\ipykernel_15072\\2334237064.py:15: RuntimeWarning: overflow encountered in matmul\n",
      "  gradients = 2 / X_b.shape[0] * X_b.T @ (X_b @ w - y)\n",
      "C:\\Users\\Usuario\\AppData\\Local\\Temp\\ipykernel_15072\\2334237064.py:16: RuntimeWarning: invalid value encountered in subtract\n",
      "  w = w - eta * gradients\n"
     ]
    }
   ],
   "source": [
    "weights, loss = gradient_descent(X, y, w0, iteraciones, eta)"
   ]
  },
  {
   "cell_type": "code",
   "execution_count": null,
   "id": "c61e3e92",
   "metadata": {},
   "outputs": [
    {
     "data": {
      "text/plain": [
       "array([[[ 6.96469186e-01],\n",
       "        [ 2.86139335e-01]],\n",
       "\n",
       "       [[-1.58886210e+01],\n",
       "        [-5.36116536e+04]],\n",
       "\n",
       "       [[ 3.19264913e+06],\n",
       "        [ 1.02780014e+10]],\n",
       "\n",
       "       ...,\n",
       "\n",
       "       [[            nan],\n",
       "        [            nan]],\n",
       "\n",
       "       [[            nan],\n",
       "        [            nan]],\n",
       "\n",
       "       [[            nan],\n",
       "        [            nan]]])"
      ]
     },
     "execution_count": 124,
     "metadata": {},
     "output_type": "execute_result"
    }
   ],
   "source": [
    "weights"
   ]
  },
  {
   "cell_type": "markdown",
   "id": "94d27c55",
   "metadata": {},
   "source": [
    "Para ayudar al algoritmo, vamos a escalar la variable X, restando la media y dividiendo entre la desviación estándar. Después aplicamos la función anterior y dibujamos."
   ]
  },
  {
   "cell_type": "code",
   "execution_count": 15,
   "id": "b5438c2a",
   "metadata": {},
   "outputs": [
    {
     "data": {
      "text/plain": [
       "<matplotlib.collections.PathCollection at 0x1da87495460>"
      ]
     },
     "execution_count": 15,
     "metadata": {},
     "output_type": "execute_result"
    },
    {
     "data": {
      "image/png": "[encoded data removed]",
      "text/plain": [
       "<Figure size 640x480 with 1 Axes>"
      ]
     },
     "metadata": {},
     "output_type": "display_data"
    }
   ],
   "source": [
    "# TODO Aplica el modelo y dibuja la recta junto con los datos\n",
    "\n",
    "X = auto_mpg.data.features\n",
    "y = auto_mpg.data.targets\n",
    "\n",
    "# Escalamos la variable x \n",
    "\n",
    "X_np = X['weight'].to_numpy().reshape((X.shape[0], 1))\n",
    "y_np = y.to_numpy()\n",
    "\n",
    "X_gd=(X_np - X_np.mean()) / X_np.std()\n",
    "y_gd = y_np\n",
    "\n",
    "# TODO 1 Punto inicial y learning rate\n",
    "\n",
    "\n",
    "# TODO 2 Aplicamos el algoritmo\n",
    "\n",
    "\n",
    "# Límites de los ejes\n",
    "x_max = np.max(X_gd) + 1\n",
    "x_min = np.min(X_gd) -1\n",
    "\n",
    "\n",
    "# TODO 3 Dibuja la gráfica\n",
    "plt.scatter(x=X_gd, y=y_gd)"
   ]
  }
 ],
 "metadata": {
  "kernelspec": {
   "display_name": "Python 3",
   "language": "python",
   "name": "python3"
  },
  "language_info": {
   "codemirror_mode": {
    "name": "ipython",
    "version": 3
   },
   "file_extension": ".py",
   "mimetype": "text/x-python",
   "name": "python",
   "nbconvert_exporter": "python",
   "pygments_lexer": "ipython3",
   "version": "3.12.4"
  }
 },
 "nbformat": 4,
 "nbformat_minor": 5
}
